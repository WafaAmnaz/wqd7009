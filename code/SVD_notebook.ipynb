{
 "cells": [
  {
   "cell_type": "markdown",
   "id": "5d8eab39",
   "metadata": {},
   "source": [
    "# USING SINGULAR VALUE DECOMPOSITION (SVD) IN A  RECOMMENDER SYSTEMS\n",
    "\n",
    "Tutorial from https://analyticsindiamag.com/singular-value-decomposition-svd-application-recommender-system/#:~:text=In%20the%20context%20of%20the,given%20to%20items%20by%20users\n",
    "\n",
    "### Team Members:\n",
    "1. Baharul Hisyam bin Baharudin (S2039609)\n",
    "2. Nor Azyra Binti Omar (17120332)\n",
    "3. Nur Farzanah Roslan (17089384)\n",
    "4. Wardatul Fadhilah binti Amir Nazri (S2039977)"
   ]
  },
  {
   "cell_type": "markdown",
   "id": "85f9282d",
   "metadata": {},
   "source": [
    "## Importing Libraries"
   ]
  },
  {
   "cell_type": "code",
   "execution_count": 4,
   "id": "9e221676",
   "metadata": {},
   "outputs": [],
   "source": [
    "import numpy as np\n",
    "import pandas as pd"
   ]
  },
  {
   "cell_type": "markdown",
   "id": "66cc777d",
   "metadata": {},
   "source": [
    "## Reading dataset (MovieLens 1M movie ratings dataset\n",
    "\n",
    "Data source: https://grouplens.org/datasets/movielens/1m/"
   ]
  },
  {
   "cell_type": "code",
   "execution_count": 5,
   "id": "e0c21e32",
   "metadata": {},
   "outputs": [],
   "source": [
    "data = pd.io.parsers.read_csv('data/ratings.dat', \n",
    "    names=['user_id', 'movie_id', 'rating', 'time'],\n",
    "    engine='python', delimiter='::')\n",
    "movie_data = pd.io.parsers.read_csv('data/movies.dat',\n",
    "    names=['movie_id', 'title', 'genre'],\n",
    "    engine='python', delimiter='::')\n"
   ]
  },
  {
   "cell_type": "code",
   "execution_count": 33,
   "id": "6d66f12a",
   "metadata": {},
   "outputs": [
    {
     "name": "stdout",
     "output_type": "stream",
     "text": [
      "1000209\n"
     ]
    },
    {
     "data": {
      "text/html": [
       "<div>\n",
       "<style scoped>\n",
       "    .dataframe tbody tr th:only-of-type {\n",
       "        vertical-align: middle;\n",
       "    }\n",
       "\n",
       "    .dataframe tbody tr th {\n",
       "        vertical-align: top;\n",
       "    }\n",
       "\n",
       "    .dataframe thead th {\n",
       "        text-align: right;\n",
       "    }\n",
       "</style>\n",
       "<table border=\"1\" class=\"dataframe\">\n",
       "  <thead>\n",
       "    <tr style=\"text-align: right;\">\n",
       "      <th></th>\n",
       "      <th>user_id</th>\n",
       "      <th>movie_id</th>\n",
       "      <th>rating</th>\n",
       "      <th>time</th>\n",
       "    </tr>\n",
       "  </thead>\n",
       "  <tbody>\n",
       "    <tr>\n",
       "      <th>0</th>\n",
       "      <td>1</td>\n",
       "      <td>1193</td>\n",
       "      <td>5</td>\n",
       "      <td>978300760</td>\n",
       "    </tr>\n",
       "    <tr>\n",
       "      <th>1</th>\n",
       "      <td>1</td>\n",
       "      <td>661</td>\n",
       "      <td>3</td>\n",
       "      <td>978302109</td>\n",
       "    </tr>\n",
       "    <tr>\n",
       "      <th>2</th>\n",
       "      <td>1</td>\n",
       "      <td>914</td>\n",
       "      <td>3</td>\n",
       "      <td>978301968</td>\n",
       "    </tr>\n",
       "    <tr>\n",
       "      <th>3</th>\n",
       "      <td>1</td>\n",
       "      <td>3408</td>\n",
       "      <td>4</td>\n",
       "      <td>978300275</td>\n",
       "    </tr>\n",
       "    <tr>\n",
       "      <th>4</th>\n",
       "      <td>1</td>\n",
       "      <td>2355</td>\n",
       "      <td>5</td>\n",
       "      <td>978824291</td>\n",
       "    </tr>\n",
       "  </tbody>\n",
       "</table>\n",
       "</div>"
      ],
      "text/plain": [
       "   user_id  movie_id  rating       time\n",
       "0        1      1193       5  978300760\n",
       "1        1       661       3  978302109\n",
       "2        1       914       3  978301968\n",
       "3        1      3408       4  978300275\n",
       "4        1      2355       5  978824291"
      ]
     },
     "execution_count": 33,
     "metadata": {},
     "output_type": "execute_result"
    }
   ],
   "source": [
    "print(len(data))\n",
    "data[:5]"
   ]
  },
  {
   "cell_type": "code",
   "execution_count": 35,
   "id": "a86865f3",
   "metadata": {},
   "outputs": [
    {
     "name": "stdout",
     "output_type": "stream",
     "text": [
      "3883\n"
     ]
    },
    {
     "data": {
      "text/html": [
       "<div>\n",
       "<style scoped>\n",
       "    .dataframe tbody tr th:only-of-type {\n",
       "        vertical-align: middle;\n",
       "    }\n",
       "\n",
       "    .dataframe tbody tr th {\n",
       "        vertical-align: top;\n",
       "    }\n",
       "\n",
       "    .dataframe thead th {\n",
       "        text-align: right;\n",
       "    }\n",
       "</style>\n",
       "<table border=\"1\" class=\"dataframe\">\n",
       "  <thead>\n",
       "    <tr style=\"text-align: right;\">\n",
       "      <th></th>\n",
       "      <th>movie_id</th>\n",
       "      <th>title</th>\n",
       "      <th>genre</th>\n",
       "    </tr>\n",
       "  </thead>\n",
       "  <tbody>\n",
       "    <tr>\n",
       "      <th>0</th>\n",
       "      <td>1</td>\n",
       "      <td>Toy Story (1995)</td>\n",
       "      <td>Animation|Children's|Comedy</td>\n",
       "    </tr>\n",
       "    <tr>\n",
       "      <th>1</th>\n",
       "      <td>2</td>\n",
       "      <td>Jumanji (1995)</td>\n",
       "      <td>Adventure|Children's|Fantasy</td>\n",
       "    </tr>\n",
       "    <tr>\n",
       "      <th>2</th>\n",
       "      <td>3</td>\n",
       "      <td>Grumpier Old Men (1995)</td>\n",
       "      <td>Comedy|Romance</td>\n",
       "    </tr>\n",
       "    <tr>\n",
       "      <th>3</th>\n",
       "      <td>4</td>\n",
       "      <td>Waiting to Exhale (1995)</td>\n",
       "      <td>Comedy|Drama</td>\n",
       "    </tr>\n",
       "    <tr>\n",
       "      <th>4</th>\n",
       "      <td>5</td>\n",
       "      <td>Father of the Bride Part II (1995)</td>\n",
       "      <td>Comedy</td>\n",
       "    </tr>\n",
       "  </tbody>\n",
       "</table>\n",
       "</div>"
      ],
      "text/plain": [
       "   movie_id                               title                         genre\n",
       "0         1                    Toy Story (1995)   Animation|Children's|Comedy\n",
       "1         2                      Jumanji (1995)  Adventure|Children's|Fantasy\n",
       "2         3             Grumpier Old Men (1995)                Comedy|Romance\n",
       "3         4            Waiting to Exhale (1995)                  Comedy|Drama\n",
       "4         5  Father of the Bride Part II (1995)                        Comedy"
      ]
     },
     "execution_count": 35,
     "metadata": {},
     "output_type": "execute_result"
    }
   ],
   "source": [
    "print(len(movie_data))\n",
    "movie_data[:5]"
   ]
  },
  {
   "cell_type": "markdown",
   "id": "ba236625",
   "metadata": {},
   "source": [
    "## Creating the rating matrix\n",
    "\n",
    "Rows as movies and columns as users"
   ]
  },
  {
   "cell_type": "code",
   "execution_count": 8,
   "id": "f2a5eb59",
   "metadata": {},
   "outputs": [],
   "source": [
    "ratings_mat = np.ndarray(\n",
    "    shape=(np.max(data.movie_id.values), np.max(data.user_id.values)),\n",
    "    dtype=np.uint8)\n",
    "ratings_mat[data.movie_id.values-1, data.user_id.values-1] = data.rating.values"
   ]
  },
  {
   "cell_type": "code",
   "execution_count": 9,
   "id": "0ea154f1",
   "metadata": {},
   "outputs": [
    {
     "data": {
      "text/plain": [
       "array([[5, 0, 0, ..., 0, 0, 3],\n",
       "       [0, 0, 0, ..., 0, 0, 0],\n",
       "       [0, 0, 0, ..., 0, 0, 0],\n",
       "       [0, 0, 0, ..., 0, 0, 0],\n",
       "       [0, 0, 0, ..., 0, 0, 0]], dtype=uint8)"
      ]
     },
     "execution_count": 9,
     "metadata": {},
     "output_type": "execute_result"
    }
   ],
   "source": [
    "ratings_mat[:5]"
   ]
  },
  {
   "cell_type": "markdown",
   "id": "f44c0a0b",
   "metadata": {},
   "source": [
    "## Normalizing the matrix\n",
    "\n",
    "Subtract mean off"
   ]
  },
  {
   "cell_type": "code",
   "execution_count": 10,
   "id": "e8aef547",
   "metadata": {},
   "outputs": [],
   "source": [
    "normalised_mat = ratings_mat - np.asarray([(np.mean(ratings_mat, 1))]).T"
   ]
  },
  {
   "cell_type": "code",
   "execution_count": 11,
   "id": "14eb781c",
   "metadata": {},
   "outputs": [
    {
     "data": {
      "text/plain": [
       "array([[ 3.57400662, -1.42599338, -1.42599338, ..., -1.42599338,\n",
       "        -1.42599338,  1.57400662],\n",
       "       [-0.37152318, -0.37152318, -0.37152318, ..., -0.37152318,\n",
       "        -0.37152318, -0.37152318],\n",
       "       [-0.23874172, -0.23874172, -0.23874172, ..., -0.23874172,\n",
       "        -0.23874172, -0.23874172],\n",
       "       [-0.07682119, -0.07682119, -0.07682119, ..., -0.07682119,\n",
       "        -0.07682119, -0.07682119],\n",
       "       [-0.14735099, -0.14735099, -0.14735099, ..., -0.14735099,\n",
       "        -0.14735099, -0.14735099]])"
      ]
     },
     "execution_count": 11,
     "metadata": {},
     "output_type": "execute_result"
    }
   ],
   "source": [
    "normalised_mat[:5]"
   ]
  },
  {
   "cell_type": "markdown",
   "id": "ad46dcc9",
   "metadata": {},
   "source": [
    "## Computing the Singular Value Decomposition (SVD)"
   ]
  },
  {
   "cell_type": "code",
   "execution_count": 12,
   "id": "6680f5fd",
   "metadata": {},
   "outputs": [],
   "source": [
    "A = normalised_mat.T / np.sqrt(ratings_mat.shape[0] - 1)\n",
    "U, S, V = np.linalg.svd(A)"
   ]
  },
  {
   "cell_type": "code",
   "execution_count": 50,
   "id": "0826ef44",
   "metadata": {},
   "outputs": [],
   "source": [
    "#Function to calculate the cosine similarity (sorting by most similar\n",
    "#and returning the top N)\n",
    "def top_cosine_similarity(data, movie_id, top_n=10, bottom_n=3):\n",
    "    index = movie_id - 1 # Movie id starts from 1 in the dataset\n",
    "    movie_row = data[index, :]\n",
    "    magnitude = np.sqrt(np.einsum('ij, ij -> i', data, data))\n",
    "\n",
    "    similarity = np.dot(movie_row, data.T) / (magnitude[index] * magnitude)\n",
    "\n",
    "    sort_indexes = np.argsort(-similarity)\n",
    "    \n",
    "  \n",
    "    return sort_indexes[:top_n], sort_indexes[-bottom_n:]"
   ]
  },
  {
   "cell_type": "code",
   "execution_count": 51,
   "id": "518094cf",
   "metadata": {},
   "outputs": [],
   "source": [
    "def print_similar_movies(movie_data, movie_id, top_indexes, bottom_indexes):\n",
    "    \"\"\"\n",
    "    Function to print top N similar movies and M least similar movies\n",
    "    \n",
    "    \"\"\"\n",
    "    print(\"\\n\\n************************************************\")\n",
    "    print(\"\\n\\n------------------------------------------------\")\n",
    "    print('Recommendations for {0}: \\n'.format(\n",
    "    movie_data[movie_data.movie_id == movie_id].title.values[0]))\n",
    "    print(\"------------------------------------------------\")\n",
    "    for id in top_indexes + 1:\n",
    "        print(movie_data[movie_data.movie_id == id].title.values[0] + \", Genre: \" + movie_data[movie_data.movie_id == id].genre.values[0])  \n",
    "\n",
    "    print(\"\\n\\n------------------------------------------------\")\n",
    "    print('Least similar to {0}: \\n'.format(\n",
    "    movie_data[movie_data.movie_id == movie_id].title.values[0]))\n",
    "    print(\"------------------------------------------------\")\n",
    "    for id in bottom_indexes:\n",
    "        print(movie_data[movie_data.movie_id == id].title.values[0]  + \", Genre: \" + movie_data[movie_data.movie_id == id].genre.values[0])   "
   ]
  },
  {
   "cell_type": "markdown",
   "id": "f75460d6",
   "metadata": {},
   "source": [
    "## Movies recommendations\n",
    "\n",
    "Recommend 10 most similar movies and list out 3 least similar movies (not recommended) for a given movie id.\n",
    "\n"
   ]
  },
  {
   "cell_type": "code",
   "execution_count": 52,
   "id": "2644dd4a",
   "metadata": {},
   "outputs": [
    {
     "name": "stdout",
     "output_type": "stream",
     "text": [
      "\n",
      "\n",
      "************************************************\n",
      "\n",
      "\n",
      "------------------------------------------------\n",
      "Recommendations for X-Men (2000): \n",
      "\n",
      "------------------------------------------------\n",
      "X-Men (2000), Genre: Action|Sci-Fi\n",
      "Shaft (2000), Genre: Action|Crime\n",
      "Romeo Must Die (2000), Genre: Action|Romance\n",
      "Titan A.E. (2000), Genre: Adventure|Animation|Sci-Fi\n",
      "Shanghai Noon (2000), Genre: Action\n",
      "Gone in 60 Seconds (2000), Genre: Action|Crime\n",
      "Gladiator (2000), Genre: Action|Drama\n",
      "Mission: Impossible 2 (2000), Genre: Action|Thriller\n",
      "Battlefield Earth (2000), Genre: Action|Sci-Fi\n",
      "Highlander: Endgame (2000), Genre: Action|Adventure|Fantasy\n",
      "\n",
      "\n",
      "------------------------------------------------\n",
      "Least similar to X-Men (2000): \n",
      "\n",
      "------------------------------------------------\n",
      "Swimming with Sharks (1995), Genre: Comedy|Drama\n",
      "Bewegte Mann, Der (1994), Genre: Comedy\n",
      "Breakfast of Champions (1999), Genre: Comedy\n",
      "\n",
      "\n",
      "************************************************\n",
      "\n",
      "\n",
      "------------------------------------------------\n",
      "Recommendations for Universal Soldier (1992): \n",
      "\n",
      "------------------------------------------------\n",
      "Universal Soldier (1992), Genre: Action|Sci-Fi\n",
      "Soldier (1998), Genre: Action|Adventure|Sci-Fi|Thriller|War\n",
      "Solo (1996), Genre: Action|Sci-Fi|Thriller\n",
      "Universal Soldier: The Return (1999), Genre: Action|Sci-Fi\n",
      "Judge Dredd (1995), Genre: Action|Adventure|Sci-Fi\n",
      "Spawn (1997), Genre: Action|Adventure|Sci-Fi|Thriller\n",
      "Timecop (1994), Genre: Action|Sci-Fi\n",
      "Johnny Mnemonic (1995), Genre: Action|Sci-Fi|Thriller\n",
      "Predator 2 (1990), Genre: Action|Sci-Fi|Thriller\n",
      "Lawnmower Man, The (1992), Genre: Action|Sci-Fi|Thriller\n",
      "\n",
      "\n",
      "------------------------------------------------\n",
      "Least similar to Universal Soldier (1992): \n",
      "\n",
      "------------------------------------------------\n",
      "Dragonheart (1996), Genre: Action|Adventure|Fantasy\n",
      "Hostile Intentions (1994), Genre: Action|Drama|Thriller\n",
      "Blue Angel, The (Blaue Engel, Der) (1930), Genre: Drama\n",
      "\n",
      "\n",
      "************************************************\n",
      "\n",
      "\n",
      "------------------------------------------------\n",
      "Recommendations for GoldenEye (1995): \n",
      "\n",
      "------------------------------------------------\n",
      "GoldenEye (1995), Genre: Action|Adventure|Thriller\n",
      "Tomorrow Never Dies (1997), Genre: Action|Romance|Thriller\n",
      "World Is Not Enough, The (1999), Genre: Action|Thriller\n",
      "Mission: Impossible (1996), Genre: Action|Adventure|Mystery\n",
      "Mask of Zorro, The (1998), Genre: Action|Adventure|Romance\n",
      "Clear and Present Danger (1994), Genre: Action|Adventure|Thriller\n",
      "Enemy of the State (1998), Genre: Action|Thriller\n",
      "Licence to Kill (1989), Genre: Action\n",
      "Rush Hour (1998), Genre: Action|Thriller\n",
      "Thunderball (1965), Genre: Action\n",
      "\n",
      "\n",
      "------------------------------------------------\n",
      "Least similar to GoldenEye (1995): \n",
      "\n",
      "------------------------------------------------\n",
      "Trigger Effect, The (1996), Genre: Drama|Thriller\n",
      "Bedrooms & Hallways (1998), Genre: Comedy|Romance\n",
      "Billy's Hollywood Screen Kiss (1997), Genre: Comedy|Romance\n"
     ]
    }
   ],
   "source": [
    "np.seterr(divide='ignore', invalid='ignore')\n",
    "\n",
    "\n",
    "#k-principal components to represent movies, movie_id to find recommendations,\n",
    "#top_n : print n results\n",
    "k = 50\n",
    "top_n = 10\n",
    "bottom_n = 3\n",
    "sliced = V.T[:, :k] # representative data\n",
    "\n",
    "movie_id_list = [3793,  # X-Men (2000)\n",
    "                 2808,  # Universal Soldier (1992)\n",
    "                 10]    # GoldeEye (1995)\n",
    "\n",
    "\n",
    "for movie_id in movie_id_list:\n",
    "    similar_indexes, least_similar_indexes = top_cosine_similarity(sliced, movie_id, top_n, bottom_n)\n",
    "    print_similar_movies(movie_data, movie_id, similar_indexes, least_similar_indexes)\n"
   ]
  }
 ],
 "metadata": {
  "kernelspec": {
   "display_name": "Python 3 (ipykernel)",
   "language": "python",
   "name": "python3"
  },
  "language_info": {
   "codemirror_mode": {
    "name": "ipython",
    "version": 3
   },
   "file_extension": ".py",
   "mimetype": "text/x-python",
   "name": "python",
   "nbconvert_exporter": "python",
   "pygments_lexer": "ipython3",
   "version": "3.9.6"
  }
 },
 "nbformat": 4,
 "nbformat_minor": 5
}
